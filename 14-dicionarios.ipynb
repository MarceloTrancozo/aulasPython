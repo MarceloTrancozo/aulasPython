{
  "nbformat": 4,
  "nbformat_minor": 0,
  "metadata": {
    "colab": {
      "provenance": [],
      "toc_visible": true,
      "authorship_tag": "ABX9TyNDHNEC37U3zd99etTrBFh/",
      "include_colab_link": true
    },
    "kernelspec": {
      "name": "python3",
      "display_name": "Python 3"
    },
    "language_info": {
      "name": "python"
    }
  },
  "cells": [
    {
      "cell_type": "markdown",
      "metadata": {
        "id": "view-in-github",
        "colab_type": "text"
      },
      "source": [
        "<a href=\"https://colab.research.google.com/github/MarceloTrancozo/aulasPython/blob/main/14-dicionarios.ipynb\" target=\"_parent\"><img src=\"https://colab.research.google.com/assets/colab-badge.svg\" alt=\"Open In Colab\"/></a>"
      ]
    },
    {
      "cell_type": "markdown",
      "source": [
        "14-dicionarios.py"
      ],
      "metadata": {
        "id": "iBTNa8kuf47g"
      }
    },
    {
      "cell_type": "code",
      "execution_count": 14,
      "metadata": {
        "colab": {
          "base_uri": "https://localhost:8080/"
        },
        "id": "PcqxOCVMf4Ws",
        "outputId": "7771f2bd-c157-4b7d-b706-69fee718ca4c"
      },
      "outputs": [
        {
          "output_type": "stream",
          "name": "stdout",
          "text": [
            "{'name': 'Fifa 23', 'yearLaunch': 2022, 'gamePrice': 90.5, 'classification': 8.5, 'genre': ['esporte', 'família']}\n",
            "5\n",
            "<class 'dict'>\n",
            "['esporte', 'família']\n",
            "['esporte', 'família']\n",
            "8.5\n",
            "dict_keys(['name', 'yearLaunch', 'gamePrice', 'classification', 'genre'])\n",
            "dict_values(['Fifa 23', 2022, 90.5, 8.5, ['esporte', 'família']])\n",
            "dict_items([('name', 'Fifa 23'), ('yearLaunch', 2022), ('gamePrice', 90.5), ('classification', 8.5), ('genre', ['esporte', 'família'])])\n",
            "{'name': 'Fifa 23', 'yearLaunch': 2022, 'gamePrice': 90.5, 'classification': 8.5, 'genre': ['esporte', 'família'], 'players': 2}\n",
            "{'name': 'Fifa 23', 'yearLaunch': 2022, 'gamePrice': 90.5, 'classification': 8.5, 'genre': ['esporte', 'família'], 'players': 1}\n",
            "{'name': 'Fifa 23', 'yearLaunch': 2022, 'gamePrice': 90.5, 'classification': 8.5, 'genre': ['esporte', 'família']}\n"
          ]
        }
      ],
      "source": [
        "gameFifa = {\n",
        "    \"name\": \"Fifa 23\",\n",
        "    \"yearLaunch\": 2022,\n",
        "    \"gamePrice\": 90.50,\n",
        "    \"classification\": 8.5,\n",
        "    \"genre\": [\"esporte\", \"família\"]\n",
        "}\n",
        "\n",
        "print(gameFifa)\n",
        "print(len(gameFifa))\n",
        "print(type(gameFifa))\n",
        "\n",
        "\n",
        "# 1 - Recuperar um elemento do dicionário\n",
        "print(gameFifa['genre'])\n",
        "print(gameFifa.get('genre'))\n",
        "print(gameFifa.get('classification'))\n",
        "\n",
        "# 2 - Buscar apenas as chaves do dicionário\n",
        "print(gameFifa.keys())\n",
        "\n",
        "# 3 - Buscar apenas os valores do dicionário\n",
        "print(gameFifa.values())\n",
        "\n",
        "# 4 - Buscar itens do dicionário com chave e valor\n",
        "print(gameFifa.items())\n",
        "\n",
        "# 5 - Adicionar itens no dicionário\n",
        "gameFifa[\"players\"] = 2\n",
        "print(gameFifa)\n",
        "\n",
        "# 6 - Atualizar itens no dicionário\n",
        "gameFifa.update({\"players\": 1})\n",
        "print(gameFifa)\n",
        "\n",
        "# 7 - Remover itens no dicionário\n",
        "gameFifa.pop(\"players\")\n",
        "print(gameFifa)"
      ]
    }
  ]
}