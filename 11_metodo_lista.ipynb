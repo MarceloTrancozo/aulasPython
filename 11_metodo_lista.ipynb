{
  "nbformat": 4,
  "nbformat_minor": 0,
  "metadata": {
    "colab": {
      "provenance": [],
      "authorship_tag": "ABX9TyPZ55rkN0fyYNFzOAmjx45H",
      "include_colab_link": true
    },
    "kernelspec": {
      "name": "python3",
      "display_name": "Python 3"
    },
    "language_info": {
      "name": "python"
    }
  },
  "cells": [
    {
      "cell_type": "markdown",
      "metadata": {
        "id": "view-in-github",
        "colab_type": "text"
      },
      "source": [
        "<a href=\"https://colab.research.google.com/github/MarceloTrancozo/aulasPython/blob/main/11_metodo_lista.ipynb\" target=\"_parent\"><img src=\"https://colab.research.google.com/assets/colab-badge.svg\" alt=\"Open In Colab\"/></a>"
      ]
    },
    {
      "cell_type": "markdown",
      "source": [
        "11-metodo_lista"
      ],
      "metadata": {
        "id": "liLPB0fIBP7Q"
      }
    },
    {
      "cell_type": "code",
      "execution_count": null,
      "metadata": {
        "id": "Ac5s8i65ApaI"
      },
      "outputs": [],
      "source": [
        "gamelist = [\"Resident Evil\", \"Star Wars Jedi Survivor\", \"The legend of Zelda\", \"Red Dead 2\", \"Mario Odyssey\"]\n",
        "\n",
        "# 1 - Tamanho da lista\n",
        "print(len(gamelist))\n",
        "\n",
        "# 2 - Recuperar um item da lista pelo índice\n",
        "print(gamelist.index(\"Mario Odyssey\"))\n",
        "\n",
        "# 3 - Adicionar item ao final da lista\n",
        "gamelist.append(\"GTA VI\")\n",
        "print(gamelist)\n",
        "\n"
      ]
    }
  ]
}