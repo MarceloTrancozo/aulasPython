{
  "cells": [
    {
      "cell_type": "markdown",
      "metadata": {
        "id": "view-in-github",
        "colab_type": "text"
      },
      "source": [
        "<a href=\"https://colab.research.google.com/github/MarceloTrancozo/aulasPython/blob/main/11_metodo_lista.ipynb\" target=\"_parent\"><img src=\"https://colab.research.google.com/assets/colab-badge.svg\" alt=\"Open In Colab\"/></a>"
      ]
    },
    {
      "cell_type": "markdown",
      "metadata": {
        "id": "liLPB0fIBP7Q"
      },
      "source": [
        "11-metodo_lista"
      ]
    },
    {
      "cell_type": "code",
      "execution_count": 1,
      "metadata": {
        "colab": {
          "base_uri": "https://localhost:8080/"
        },
        "id": "Ac5s8i65ApaI",
        "outputId": "dd1b0134-b155-455d-d89d-59ca6fe62eba"
      },
      "outputs": [
        {
          "output_type": "stream",
          "name": "stdout",
          "text": [
            "5\n",
            "4\n",
            "['Resident Evil', 'Star Wars Jedi Survivor', 'The legend of Zelda', 'Red Dead 2', 'Mario Odyssey', 'GTA VI']\n"
          ]
        }
      ],
      "source": [
        "gamelist = [\"Resident Evil\", \"Star Wars Jedi Survivor\", \"The legend of Zelda\", \"Red Dead 2\", \"Mario Odyssey\"]\n",
        "\n",
        "# 1 - Tamanho da lista\n",
        "print(len(gamelist))\n",
        "\n",
        "# 2 - Recuperar um item da lista pelo índice\n",
        "print(gamelist.index(\"Mario Odyssey\"))\n",
        "\n",
        "# 3 - Adicionar item ao final da lista\n",
        "gamelist.append(\"GTA VI\")\n",
        "print(gamelist)\n",
        "\n",
        "\n",
        "print(\"Hello World!\")\n",
        "\n"
      ]
    }
  ],
  "metadata": {
    "colab": {
      "provenance": [],
      "authorship_tag": "ABX9TyORt8+U++ykDC+zbhZ/b5hd",
      "include_colab_link": true
    },
    "kernelspec": {
      "display_name": "Python 3",
      "name": "python3"
    },
    "language_info": {
      "name": "python"
    }
  },
  "nbformat": 4,
  "nbformat_minor": 0
}