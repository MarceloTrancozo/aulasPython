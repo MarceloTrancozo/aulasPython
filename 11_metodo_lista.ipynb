{
  "cells": [
    {
      "cell_type": "markdown",
      "metadata": {
        "id": "view-in-github",
        "colab_type": "text"
      },
      "source": [
        "<a href=\"https://colab.research.google.com/github/MarceloTrancozo/aulasPython/blob/main/11_metodo_lista.ipynb\" target=\"_parent\"><img src=\"https://colab.research.google.com/assets/colab-badge.svg\" alt=\"Open In Colab\"/></a>"
      ]
    },
    {
      "cell_type": "markdown",
      "metadata": {
        "id": "liLPB0fIBP7Q"
      },
      "source": [
        "11-metodo_lista"
      ]
    },
    {
      "cell_type": "code",
      "execution_count": 10,
      "metadata": {
        "colab": {
          "base_uri": "https://localhost:8080/"
        },
        "id": "Ac5s8i65ApaI",
        "outputId": "bc63f3e1-54e1-40a1-8ab1-01f2bbb4bc10"
      },
      "outputs": [
        {
          "output_type": "stream",
          "name": "stdout",
          "text": [
            "5\n",
            "4\n",
            "['Resident Evil', 'Star Wars Jedi Survivor', 'The legend of Zelda', 'Red Dead 2', 'Mario Odyssey', 'GTA VI']\n",
            "['GTA VI', 'Mario Odyssey', 'Red Dead 2', 'Resident Evil', 'Star Wars Jedi Survivor', 'The legend of Zelda']\n",
            "['GTA VI', 'Mario Odyssey', 'Red Dead 2', 'Star Wars Jedi Survivor', 'The legend of Zelda']\n",
            "[]\n"
          ]
        }
      ],
      "source": [
        "gamelist = [\"Resident Evil\", \"Star Wars Jedi Survivor\", \"The legend of Zelda\", \"Red Dead 2\", \"Mario Odyssey\"]\n",
        "\n",
        "# 1 - Tamanho da lista\n",
        "print(len(gamelist))\n",
        "\n",
        "# 2 - Recuperar um item da lista pelo índice\n",
        "print(gamelist.index(\"Mario Odyssey\"))\n",
        "\n",
        "# 3 - Adicionar item ao final da lista\n",
        "gamelist.append(\"GTA VI\")\n",
        "print(gamelist)\n",
        "\n",
        "# 4 - Ordernar a lista\n",
        "gamelist.sort()\n",
        "print(gamelist)\n",
        "\n",
        "# 5 - Copiar os itens de uma lista para outra\n",
        "gameReset = gamelist.copy()\n",
        "gameReset.remove(\"Resident Evil\")\n",
        "print(gameReset)\n",
        "\n",
        "# 6 - Remove todos os itens da lista\n",
        "gamelist.clear()\n",
        "print(gamelist)"
      ]
    }
  ],
  "metadata": {
    "colab": {
      "provenance": [],
      "authorship_tag": "ABX9TyOPk8HTgOzBXEe+TiIpe8SZ",
      "include_colab_link": true
    },
    "kernelspec": {
      "display_name": "Python 3",
      "name": "python3"
    },
    "language_info": {
      "name": "python"
    }
  },
  "nbformat": 4,
  "nbformat_minor": 0
}